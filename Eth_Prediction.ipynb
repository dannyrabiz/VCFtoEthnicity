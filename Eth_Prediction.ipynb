{
 "cells": [
  {
   "cell_type": "code",
   "execution_count": 1,
   "metadata": {},
   "outputs": [
    {
     "name": "stdout",
     "output_type": "stream",
     "text": [
      "Populating the interactive namespace from numpy and matplotlib\n"
     ]
    }
   ],
   "source": [
    "import numpy as np\n",
    "%pylab inline\n",
    "import matplotlib.pyplot as plt\n",
    "import seaborn as sns\n",
    "import pandas as pd"
   ]
  },
  {
   "cell_type": "code",
   "execution_count": 2,
   "metadata": {},
   "outputs": [],
   "source": [
    "# Read initial files in\n",
    "# df1 = pd.read_csv(\"sample_files.txt\",sep = \",\")\n",
    "headers = list(pd.read_csv(\"cols_varscan.txt\",sep = \"\\t\").columns)\n",
    "df1 = pd.read_csv(\"veryexonic.txt\",sep = \"\\t\",names = headers)"
   ]
  },
  {
   "cell_type": "code",
   "execution_count": 3,
   "metadata": {},
   "outputs": [],
   "source": [
    "# Get list of columns containing \"AF\"\n",
    "AF_list = ['AF','AF_afr',\n",
    " 'AF_sas',\n",
    " 'AF_amr',\n",
    " 'AF_eas',\n",
    " 'AF_nfe',\n",
    " 'AF_fin',\n",
    " 'AF_asj',\n",
    " 'AF_oth']\n",
    "\n",
    "# Filter data.\n",
    "df2 = df1[(df1['AF'] != '0') & (df1['AF'] != '.') & (df1['AF_afr'] != '.') & (df1['AF_sas'] != '.') & (df1['AF_amr'] != '.') & (df1['AF_eas'] != '.') & (df1['AF_nfe'] != '.') & (df1['AF_fin'] != '.') & (df1['AF_asj'] != '.') & (df1['AF_oth'] != '.') ]\n",
    "\n",
    "# Isolate allele frequency data\n",
    "#data = df2.to_numpy()[:,43:51] # 43 = index of 'AF_afr', 50 = index of AF_oth\n",
    "#data = data.astype('float')"
   ]
  },
  {
   "cell_type": "code",
   "execution_count": 4,
   "metadata": {},
   "outputs": [],
   "source": [
    "#extract just af cols\n",
    "df2 = df2[df2.columns[43:51]]"
   ]
  },
  {
   "cell_type": "code",
   "execution_count": 5,
   "metadata": {},
   "outputs": [],
   "source": [
    "#remove variants with median over 2.5% \n",
    "drop = df2.astype(float).apply(median, axis =1) > 0.025\n",
    "\n",
    "df2 = df2.drop(drop[drop].index).astype(float)"
   ]
  },
  {
   "cell_type": "code",
   "execution_count": 7,
   "metadata": {},
   "outputs": [],
   "source": [
    "from scipy.stats import zscore"
   ]
  },
  {
   "cell_type": "code",
   "execution_count": 10,
   "metadata": {},
   "outputs": [],
   "source": [
    "#Remove if 3 of more zeroes\n",
    "drop = sum(df2==0, axis =1)>= 3\n",
    "df2 = df2.drop(drop[drop].index)"
   ]
  },
  {
   "cell_type": "code",
   "execution_count": 11,
   "metadata": {},
   "outputs": [],
   "source": [
    "#Calculate zscores\n",
    "#Bias selection of a zscore cutuff \n",
    "\n",
    "#check = df2.apply(zscore, axis =1).apply(max)\n",
    "#sum(check>2.641)\n",
    "keep_rows = df2.apply(zscore, axis =1).apply(max)>2.6"
   ]
  },
  {
   "cell_type": "code",
   "execution_count": 12,
   "metadata": {},
   "outputs": [],
   "source": [
    "#keep only rows with high max zscores\n",
    "df3 = df2.loc[keep_rows[keep_rows].index]"
   ]
  },
  {
   "cell_type": "code",
   "execution_count": 13,
   "metadata": {},
   "outputs": [
    {
     "data": {
      "text/plain": [
       "AF_afr    19393\n",
       "AF_asj     2396\n",
       "AF_eas     2274\n",
       "AF_sas     1179\n",
       "AF_fin      862\n",
       "AF_amr      608\n",
       "AF_nfe       29\n",
       "AF_oth        5\n",
       "dtype: int64"
      ]
     },
     "execution_count": 13,
     "metadata": {},
     "output_type": "execute_result"
    }
   ],
   "source": [
    "#how many of each ethnicity \n",
    "df3.idxmax(axis=1).value_counts()"
   ]
  },
  {
   "cell_type": "code",
   "execution_count": 104,
   "metadata": {},
   "outputs": [],
   "source": [
    "#Based on above maybe ill just use the first 6 columns and not include AF_other "
   ]
  },
  {
   "cell_type": "code",
   "execution_count": 14,
   "metadata": {},
   "outputs": [],
   "source": [
    "#RE-DO\n",
    "df2 = df1[(df1['AF'] != '0') & (df1['AF'] != '.') & (df1['AF_afr'] != '.') & (df1['AF_sas'] != '.') & (df1['AF_amr'] != '.') & (df1['AF_eas'] != '.') & (df1['AF_nfe'] != '.') & (df1['AF_fin'] != '.') & (df1['AF_asj'] != '.') & (df1['AF_oth'] != '.') ]\n",
    "\n",
    "df2 = df2[['AF_afr','AF_nfe' ,'AF_sas', 'AF_amr', 'AF_eas', 'AF_fin', 'AF_asj']].astype(float)"
   ]
  },
  {
   "cell_type": "code",
   "execution_count": 17,
   "metadata": {},
   "outputs": [],
   "source": [
    "drop = df2.apply(median, axis =1) > 0.025"
   ]
  },
  {
   "cell_type": "code",
   "execution_count": 18,
   "metadata": {},
   "outputs": [],
   "source": [
    "df2 = df2.drop(drop[drop].index)"
   ]
  },
  {
   "cell_type": "code",
   "execution_count": 19,
   "metadata": {},
   "outputs": [],
   "source": [
    "drop = sum(df2==0, axis =1)>= 3\n",
    "df2 = df2.drop(drop[drop].index)"
   ]
  },
  {
   "cell_type": "code",
   "execution_count": 20,
   "metadata": {},
   "outputs": [],
   "source": [
    "#check = df2.apply(zscore, axis =1).apply(max)\n",
    "#sum(check>2.23)\n",
    "keep_rows = df2.apply(zscore, axis =1).apply(max)>2.3"
   ]
  },
  {
   "cell_type": "code",
   "execution_count": 21,
   "metadata": {},
   "outputs": [],
   "source": [
    "df3 = df2.loc[keep_rows[keep_rows].index]"
   ]
  },
  {
   "cell_type": "code",
   "execution_count": 22,
   "metadata": {},
   "outputs": [
    {
     "data": {
      "text/plain": [
       "AF_afr    24432\n",
       "AF_asj     6389\n",
       "AF_eas     3762\n",
       "AF_nfe     3752\n",
       "AF_fin     3601\n",
       "AF_sas     3098\n",
       "AF_amr     1421\n",
       "dtype: int64"
      ]
     },
     "execution_count": 22,
     "metadata": {},
     "output_type": "execute_result"
    }
   ],
   "source": [
    "df3.idxmax(axis=1).value_counts()"
   ]
  },
  {
   "cell_type": "code",
   "execution_count": 23,
   "metadata": {},
   "outputs": [
    {
     "name": "stdout",
     "output_type": "stream",
     "text": [
      "AF_afr\n",
      "AF_nfe\n",
      "AF_sas\n",
      "AF_amr\n",
      "AF_eas\n",
      "AF_fin\n",
      "AF_asj\n"
     ]
    }
   ],
   "source": [
    "#select top 1000 from each ethnicity \n",
    "array_dic = {}\n",
    "for ind, eth in enumerate(['AF_afr','AF_nfe' ,'AF_sas', 'AF_amr', 'AF_eas', 'AF_fin', 'AF_asj']):\n",
    "    keep = df3.idxmax(axis=1)==eth\n",
    "    test = df3.loc[keep[keep].index].apply(zscore, axis =1).apply(max)\n",
    "    keep_index = test.sort_values(ascending=False).index[0:1000]\n",
    "    for i in keep_index: \n",
    "        arr1= zeros(7)\n",
    "        arr1[ind] = 1\n",
    "        array_dic[i] = arr1\n",
    "    print(eth)    "
   ]
  },
  {
   "cell_type": "code",
   "execution_count": 24,
   "metadata": {},
   "outputs": [],
   "source": [
    "#make new df with only these variants \n",
    "#Make column of the arrays of the eth values \n",
    "df_new = df1.loc[list(array_dic.keys())]\n",
    "df_new['Eth_Counts'] = list(array_dic.values())"
   ]
  },
  {
   "cell_type": "code",
   "execution_count": 25,
   "metadata": {},
   "outputs": [],
   "source": [
    "#Get median \n",
    "#['AF_afr','AF_nfe' ,'AF_sas', 'AF_amr', 'AF_eas', 'AF_fin', 'AF_asj']\n",
    "get_medians = []\n",
    "for sample in df_new.columns[-667:-1]: \n",
    "    test = df_new[sample]!='.'\n",
    "    sum_array = sum(array(df_new.loc[test[test].index]['Eth_Counts']), axis = 0)\n",
    "    get_medians.append(sum_array)\n",
    "    #print(sample, sum_array) "
   ]
  },
  {
   "cell_type": "code",
   "execution_count": 26,
   "metadata": {},
   "outputs": [],
   "source": [
    "#Get median normalized count for each sample\n",
    "make_df = []\n",
    "for sample in df_new.columns[-667:-1]: \n",
    "    test = df_new[sample]!='.'\n",
    "    norm_array = sum(array(df_new.loc[test[test].index]['Eth_Counts']), axis = 0) - median(vstack(get_medians), axis =0)\n",
    "    make_df.append(norm_array)\n",
    "    #print(sample, norm_array) "
   ]
  },
  {
   "cell_type": "code",
   "execution_count": 85,
   "metadata": {},
   "outputs": [],
   "source": [
    "#Try to cluster and visualize \n",
    "from sklearn.cluster import KMeans"
   ]
  },
  {
   "cell_type": "code",
   "execution_count": 126,
   "metadata": {},
   "outputs": [],
   "source": [
    "kmeans = KMeans(n_clusters = 6, random_state = 42)\n",
    "kmeans.fit(vstack(make_df))\n",
    "prediction = kmeans.fit_predict(vstack(make_df))"
   ]
  },
  {
   "cell_type": "code",
   "execution_count": 127,
   "metadata": {},
   "outputs": [
    {
     "name": "stdout",
     "output_type": "stream",
     "text": [
      "[ -2.  -2.  -2. 146.   0.  -4.   2.]\n",
      "[ 0. -1. -1. 67. -1.  0.  2.]\n",
      "[  9.  -4.   0. 107.   4.   1.   0.]\n",
      "[  1.  -2.  -3. 158.  -1.  -4.   1.]\n",
      "[  0.  -5.  -1. 124.   0.  -2.   1.]\n"
     ]
    }
   ],
   "source": [
    "for elem in list(where(prediction == 4)[0]):\n",
    "    print (make_df[elem])"
   ]
  },
  {
   "cell_type": "code",
   "execution_count": 136,
   "metadata": {},
   "outputs": [
    {
     "data": {
      "text/plain": [
       "(array([  6,  15,  39,  50,  77,  89,  98, 108, 111, 112, 114, 117, 127,\n",
       "        141, 153, 158, 183, 188, 193, 212, 220, 229, 233, 247, 250, 267,\n",
       "        281, 289, 293, 302, 323, 327, 331, 341, 346, 348, 361, 367, 371,\n",
       "        393, 398, 400, 420, 443, 463, 483, 487, 496, 537, 543, 545, 556,\n",
       "        568, 589, 592, 629, 634, 640, 641, 642, 663]),)"
      ]
     },
     "execution_count": 136,
     "metadata": {},
     "output_type": "execute_result"
    }
   ],
   "source": [
    "where(prediction==2)"
   ]
  },
  {
   "cell_type": "code",
   "execution_count": 137,
   "metadata": {},
   "outputs": [
    {
     "data": {
      "text/plain": [
       "array([ 5., -3., -2., -4.,  0., -1., 41.])"
      ]
     },
     "execution_count": 137,
     "metadata": {},
     "output_type": "execute_result"
    }
   ],
   "source": [
    "make_df[6]"
   ]
  },
  {
   "cell_type": "code",
   "execution_count": 138,
   "metadata": {},
   "outputs": [],
   "source": [
    "pred_dic = {0:'White', 1:'African', 2:'Jewish', 3:'East Asian', 4:'Latin', 5:'South Asian'}"
   ]
  },
  {
   "cell_type": "code",
   "execution_count": 107,
   "metadata": {},
   "outputs": [],
   "source": [
    "from sklearn.decomposition import PCA as sklearnPCA"
   ]
  },
  {
   "cell_type": "code",
   "execution_count": 139,
   "metadata": {},
   "outputs": [
    {
     "data": {
      "image/png": "[encoded data removed]",
      "text/plain": [
       "<Figure size 432x288 with 1 Axes>"
      ]
     },
     "metadata": {
      "needs_background": "light"
     },
     "output_type": "display_data"
    }
   ],
   "source": [
    "pca = sklearnPCA(n_components=2)\n",
    "transformed = pd.DataFrame(pca.fit_transform(vstack(make_df)))\n",
    "for i in range(6): \n",
    "    temp = transformed.loc[where(prediction==i)]\n",
    "    plt.scatter(temp[0], temp[1], label = pred_dic[i])\n",
    "    plt.legend()\n"
   ]
  },
  {
   "cell_type": "code",
   "execution_count": null,
   "metadata": {},
   "outputs": [],
   "source": []
  },
  {
   "cell_type": "code",
   "execution_count": 264,
   "metadata": {},
   "outputs": [
    {
     "data": {
      "text/plain": [
       "<matplotlib.legend.Legend at 0x1a9aae9dd8>"
      ]
     },
     "execution_count": 264,
     "metadata": {},
     "output_type": "execute_result"
    },
    {
     "data": {
      "image/png": "[encoded data removed]",
      "text/plain": [
       "<Figure size 432x288 with 1 Axes>"
      ]
     },
     "metadata": {
      "needs_background": "light"
     },
     "output_type": "display_data"
    }
   ],
   "source": [
    "from sklearn.discriminant_analysis import LinearDiscriminantAnalysis as LDA \n",
    "lda = LDA(n_components=2)\n",
    "transformed1 = pd.DataFrame(lda.fit_transform(vstack(make_df), prediction))\n",
    "for i in range(6): \n",
    "    temp = transformed1.loc[where(prediction==i)]\n",
    "    plt.scatter(temp[0], temp[1], label = pred_dic[i])\n",
    "plt.legend()"
   ]
  },
  {
   "cell_type": "code",
   "execution_count": null,
   "metadata": {},
   "outputs": [],
   "source": [
    "#Try again remove nfe and fin cols \n",
    "#['AF_afr','AF_nfe' ,'AF_sas', 'AF_amr', 'AF_eas', 'AF_fin', 'AF_asj']"
   ]
  },
  {
   "cell_type": "code",
   "execution_count": 282,
   "metadata": {},
   "outputs": [],
   "source": [
    "data = vstack(make_df)\n",
    "data = delete(data, 1, 1)\n",
    "data = delete(data, 4,1)"
   ]
  },
  {
   "cell_type": "code",
   "execution_count": 283,
   "metadata": {},
   "outputs": [
    {
     "data": {
      "text/plain": [
       "<matplotlib.legend.Legend at 0x1a6d950f28>"
      ]
     },
     "execution_count": 283,
     "metadata": {},
     "output_type": "execute_result"
    },
    {
     "data": {
      "image/png": "[encoded data removed]",
      "text/plain": [
       "<Figure size 432x288 with 1 Axes>"
      ]
     },
     "metadata": {
      "needs_background": "light"
     },
     "output_type": "display_data"
    }
   ],
   "source": [
    "from sklearn.discriminant_analysis import LinearDiscriminantAnalysis as LDA \n",
    "lda = LDA(n_components=2)\n",
    "transformed1 = pd.DataFrame(lda.fit_transform(data, prediction))\n",
    "for i in range(6): \n",
    "    temp = transformed1.loc[where(prediction==i)]\n",
    "    plt.scatter(temp[0], temp[1], label = pred_dic[i])\n",
    "plt.legend()"
   ]
  },
  {
   "cell_type": "code",
   "execution_count": 284,
   "metadata": {},
   "outputs": [
    {
     "data": {
      "image/png": "[encoded data removed]",
      "text/plain": [
       "<Figure size 432x288 with 1 Axes>"
      ]
     },
     "metadata": {
      "needs_background": "light"
     },
     "output_type": "display_data"
    }
   ],
   "source": [
    "pca = sklearnPCA(n_components=2)\n",
    "transformed = pd.DataFrame(pca.fit_transform(data))\n",
    "for i in range(6): \n",
    "    temp = transformed.loc[where(prediction==i)]\n",
    "    plt.scatter(temp[0], temp[1], label = pred_dic[i])\n",
    "    plt.legend()"
   ]
  },
  {
   "cell_type": "code",
   "execution_count": 385,
   "metadata": {},
   "outputs": [],
   "source": [
    "import plotly.express as px\n",
    "from sklearn.discriminant_analysis import LinearDiscriminantAnalysis as LDA \n",
    "lda = LDA(n_components=3)\n",
    "transformed1 = pd.DataFrame(lda.fit_transform(data, prediction))"
   ]
  },
  {
   "cell_type": "code",
   "execution_count": 386,
   "metadata": {},
   "outputs": [],
   "source": [
    "import plotly.io as pio\n",
    "pio.renderers.default = 'iframe'"
   ]
  },
  {
   "cell_type": "code",
   "execution_count": 387,
   "metadata": {},
   "outputs": [
    {
     "data": {
      "text/html": [
       "<iframe\n",
       "    scrolling=\"no\"\n",
       "    width=\"100%\"\n",
       "    height=\"545px\"\n",
       "    src=\"iframe_figures/figure_387.html\"\n",
       "    frameborder=\"0\"\n",
       "    allowfullscreen\n",
       "></iframe>\n"
      ]
     },
     "metadata": {},
     "output_type": "display_data"
    }
   ],
   "source": [
    "transformed1['Pred'] = prediction\n",
    "fig = px.scatter_3d(transformed1, x=0, y=1, z=2,\n",
    "              color='Pred')\n",
    "fig.show()"
   ]
  },
  {
   "cell_type": "code",
   "execution_count": 383,
   "metadata": {},
   "outputs": [
    {
     "data": {
      "text/html": [
       "<div>\n",
       "<style scoped>\n",
       "    .dataframe tbody tr th:only-of-type {\n",
       "        vertical-align: middle;\n",
       "    }\n",
       "\n",
       "    .dataframe tbody tr th {\n",
       "        vertical-align: top;\n",
       "    }\n",
       "\n",
       "    .dataframe thead th {\n",
       "        text-align: right;\n",
       "    }\n",
       "</style>\n",
       "<table border=\"1\" class=\"dataframe\">\n",
       "  <thead>\n",
       "    <tr style=\"text-align: right;\">\n",
       "      <th></th>\n",
       "      <th>0</th>\n",
       "      <th>1</th>\n",
       "      <th>2</th>\n",
       "      <th>3</th>\n",
       "      <th>Pred</th>\n",
       "    </tr>\n",
       "  </thead>\n",
       "  <tbody>\n",
       "    <tr>\n",
       "      <th>0</th>\n",
       "      <td>-0.514648</td>\n",
       "      <td>0.016765</td>\n",
       "      <td>-2.137610</td>\n",
       "      <td>0.655045</td>\n",
       "      <td>0</td>\n",
       "    </tr>\n",
       "    <tr>\n",
       "      <th>1</th>\n",
       "      <td>-1.345104</td>\n",
       "      <td>-5.587139</td>\n",
       "      <td>6.642363</td>\n",
       "      <td>0.907657</td>\n",
       "      <td>2</td>\n",
       "    </tr>\n",
       "    <tr>\n",
       "      <th>2</th>\n",
       "      <td>-0.841824</td>\n",
       "      <td>-0.311069</td>\n",
       "      <td>-2.233389</td>\n",
       "      <td>0.964382</td>\n",
       "      <td>0</td>\n",
       "    </tr>\n",
       "    <tr>\n",
       "      <th>3</th>\n",
       "      <td>-1.200023</td>\n",
       "      <td>0.973191</td>\n",
       "      <td>-0.860425</td>\n",
       "      <td>0.657571</td>\n",
       "      <td>0</td>\n",
       "    </tr>\n",
       "    <tr>\n",
       "      <th>4</th>\n",
       "      <td>-0.470799</td>\n",
       "      <td>0.658072</td>\n",
       "      <td>-1.776311</td>\n",
       "      <td>0.602252</td>\n",
       "      <td>0</td>\n",
       "    </tr>\n",
       "    <tr>\n",
       "      <th>5</th>\n",
       "      <td>-0.869553</td>\n",
       "      <td>-0.173584</td>\n",
       "      <td>-1.789780</td>\n",
       "      <td>0.062902</td>\n",
       "      <td>0</td>\n",
       "    </tr>\n",
       "    <tr>\n",
       "      <th>6</th>\n",
       "      <td>-0.771912</td>\n",
       "      <td>11.914995</td>\n",
       "      <td>6.012483</td>\n",
       "      <td>0.332304</td>\n",
       "      <td>3</td>\n",
       "    </tr>\n",
       "    <tr>\n",
       "      <th>7</th>\n",
       "      <td>-0.119862</td>\n",
       "      <td>-0.514822</td>\n",
       "      <td>-1.931164</td>\n",
       "      <td>0.842114</td>\n",
       "      <td>0</td>\n",
       "    </tr>\n",
       "    <tr>\n",
       "      <th>8</th>\n",
       "      <td>-0.835545</td>\n",
       "      <td>-0.501448</td>\n",
       "      <td>-1.907040</td>\n",
       "      <td>0.409067</td>\n",
       "      <td>0</td>\n",
       "    </tr>\n",
       "    <tr>\n",
       "      <th>9</th>\n",
       "      <td>-1.247030</td>\n",
       "      <td>-0.623973</td>\n",
       "      <td>-1.719121</td>\n",
       "      <td>0.749931</td>\n",
       "      <td>0</td>\n",
       "    </tr>\n",
       "    <tr>\n",
       "      <th>10</th>\n",
       "      <td>-0.795674</td>\n",
       "      <td>-0.602554</td>\n",
       "      <td>-1.700035</td>\n",
       "      <td>0.374537</td>\n",
       "      <td>0</td>\n",
       "    </tr>\n",
       "    <tr>\n",
       "      <th>11</th>\n",
       "      <td>-0.837418</td>\n",
       "      <td>-0.606623</td>\n",
       "      <td>-1.729737</td>\n",
       "      <td>0.400953</td>\n",
       "      <td>0</td>\n",
       "    </tr>\n",
       "    <tr>\n",
       "      <th>12</th>\n",
       "      <td>-0.399025</td>\n",
       "      <td>-0.408137</td>\n",
       "      <td>-2.018163</td>\n",
       "      <td>0.940265</td>\n",
       "      <td>0</td>\n",
       "    </tr>\n",
       "    <tr>\n",
       "      <th>13</th>\n",
       "      <td>-1.285849</td>\n",
       "      <td>-0.204248</td>\n",
       "      <td>-1.760327</td>\n",
       "      <td>0.771271</td>\n",
       "      <td>0</td>\n",
       "    </tr>\n",
       "    <tr>\n",
       "      <th>14</th>\n",
       "      <td>-0.786712</td>\n",
       "      <td>-0.280375</td>\n",
       "      <td>-2.241362</td>\n",
       "      <td>0.219184</td>\n",
       "      <td>0</td>\n",
       "    </tr>\n",
       "    <tr>\n",
       "      <th>15</th>\n",
       "      <td>-0.846081</td>\n",
       "      <td>10.951465</td>\n",
       "      <td>4.050851</td>\n",
       "      <td>0.320069</td>\n",
       "      <td>3</td>\n",
       "    </tr>\n",
       "    <tr>\n",
       "      <th>16</th>\n",
       "      <td>-1.205286</td>\n",
       "      <td>-0.619905</td>\n",
       "      <td>-1.689419</td>\n",
       "      <td>0.723516</td>\n",
       "      <td>0</td>\n",
       "    </tr>\n",
       "    <tr>\n",
       "      <th>17</th>\n",
       "      <td>-0.393162</td>\n",
       "      <td>-0.181379</td>\n",
       "      <td>-1.693899</td>\n",
       "      <td>0.559571</td>\n",
       "      <td>0</td>\n",
       "    </tr>\n",
       "    <tr>\n",
       "      <th>18</th>\n",
       "      <td>-1.208223</td>\n",
       "      <td>-0.422870</td>\n",
       "      <td>-2.025188</td>\n",
       "      <td>1.099135</td>\n",
       "      <td>0</td>\n",
       "    </tr>\n",
       "    <tr>\n",
       "      <th>19</th>\n",
       "      <td>-0.440515</td>\n",
       "      <td>-1.121800</td>\n",
       "      <td>-0.844421</td>\n",
       "      <td>0.191100</td>\n",
       "      <td>0</td>\n",
       "    </tr>\n",
       "    <tr>\n",
       "      <th>20</th>\n",
       "      <td>-0.525068</td>\n",
       "      <td>-0.827726</td>\n",
       "      <td>-1.416895</td>\n",
       "      <td>0.627664</td>\n",
       "      <td>0</td>\n",
       "    </tr>\n",
       "    <tr>\n",
       "      <th>21</th>\n",
       "      <td>-0.829266</td>\n",
       "      <td>-0.691827</td>\n",
       "      <td>-1.580690</td>\n",
       "      <td>-0.146248</td>\n",
       "      <td>0</td>\n",
       "    </tr>\n",
       "    <tr>\n",
       "      <th>22</th>\n",
       "      <td>-0.426743</td>\n",
       "      <td>-0.891482</td>\n",
       "      <td>-1.227282</td>\n",
       "      <td>-0.331759</td>\n",
       "      <td>0</td>\n",
       "    </tr>\n",
       "    <tr>\n",
       "      <th>23</th>\n",
       "      <td>-0.687650</td>\n",
       "      <td>-0.518723</td>\n",
       "      <td>-1.379323</td>\n",
       "      <td>0.540440</td>\n",
       "      <td>0</td>\n",
       "    </tr>\n",
       "    <tr>\n",
       "      <th>24</th>\n",
       "      <td>-1.050291</td>\n",
       "      <td>-1.041004</td>\n",
       "      <td>-1.178454</td>\n",
       "      <td>0.320877</td>\n",
       "      <td>0</td>\n",
       "    </tr>\n",
       "    <tr>\n",
       "      <th>25</th>\n",
       "      <td>-1.132080</td>\n",
       "      <td>-0.615594</td>\n",
       "      <td>-0.561074</td>\n",
       "      <td>0.151406</td>\n",
       "      <td>0</td>\n",
       "    </tr>\n",
       "    <tr>\n",
       "      <th>26</th>\n",
       "      <td>-0.515215</td>\n",
       "      <td>-0.479385</td>\n",
       "      <td>-0.591064</td>\n",
       "      <td>-0.141839</td>\n",
       "      <td>0</td>\n",
       "    </tr>\n",
       "    <tr>\n",
       "      <th>27</th>\n",
       "      <td>-0.969335</td>\n",
       "      <td>-0.632140</td>\n",
       "      <td>-1.800006</td>\n",
       "      <td>0.839590</td>\n",
       "      <td>0</td>\n",
       "    </tr>\n",
       "    <tr>\n",
       "      <th>28</th>\n",
       "      <td>-1.313161</td>\n",
       "      <td>-0.483900</td>\n",
       "      <td>-1.314632</td>\n",
       "      <td>-0.304829</td>\n",
       "      <td>0</td>\n",
       "    </tr>\n",
       "    <tr>\n",
       "      <th>29</th>\n",
       "      <td>-0.459525</td>\n",
       "      <td>-0.573370</td>\n",
       "      <td>-1.798310</td>\n",
       "      <td>-0.460697</td>\n",
       "      <td>0</td>\n",
       "    </tr>\n",
       "    <tr>\n",
       "      <th>...</th>\n",
       "      <td>...</td>\n",
       "      <td>...</td>\n",
       "      <td>...</td>\n",
       "      <td>...</td>\n",
       "      <td>...</td>\n",
       "    </tr>\n",
       "    <tr>\n",
       "      <th>636</th>\n",
       "      <td>-1.528567</td>\n",
       "      <td>-0.517554</td>\n",
       "      <td>-1.444305</td>\n",
       "      <td>0.186638</td>\n",
       "      <td>0</td>\n",
       "    </tr>\n",
       "    <tr>\n",
       "      <th>637</th>\n",
       "      <td>-0.572189</td>\n",
       "      <td>-1.236083</td>\n",
       "      <td>-0.058517</td>\n",
       "      <td>0.224700</td>\n",
       "      <td>0</td>\n",
       "    </tr>\n",
       "    <tr>\n",
       "      <th>638</th>\n",
       "      <td>-0.864731</td>\n",
       "      <td>-0.886275</td>\n",
       "      <td>-1.284042</td>\n",
       "      <td>-0.675148</td>\n",
       "      <td>0</td>\n",
       "    </tr>\n",
       "    <tr>\n",
       "      <th>639</th>\n",
       "      <td>-0.471829</td>\n",
       "      <td>-0.902206</td>\n",
       "      <td>-1.247565</td>\n",
       "      <td>-0.125648</td>\n",
       "      <td>0</td>\n",
       "    </tr>\n",
       "    <tr>\n",
       "      <th>640</th>\n",
       "      <td>-1.238961</td>\n",
       "      <td>9.725738</td>\n",
       "      <td>4.708918</td>\n",
       "      <td>-0.970520</td>\n",
       "      <td>3</td>\n",
       "    </tr>\n",
       "    <tr>\n",
       "      <th>641</th>\n",
       "      <td>-0.905149</td>\n",
       "      <td>8.936699</td>\n",
       "      <td>4.599073</td>\n",
       "      <td>0.342442</td>\n",
       "      <td>3</td>\n",
       "    </tr>\n",
       "    <tr>\n",
       "      <th>642</th>\n",
       "      <td>0.369767</td>\n",
       "      <td>8.457660</td>\n",
       "      <td>3.390320</td>\n",
       "      <td>-0.658885</td>\n",
       "      <td>3</td>\n",
       "    </tr>\n",
       "    <tr>\n",
       "      <th>643</th>\n",
       "      <td>-0.913159</td>\n",
       "      <td>-0.903656</td>\n",
       "      <td>-1.294907</td>\n",
       "      <td>-0.289341</td>\n",
       "      <td>0</td>\n",
       "    </tr>\n",
       "    <tr>\n",
       "      <th>644</th>\n",
       "      <td>-1.356790</td>\n",
       "      <td>0.027687</td>\n",
       "      <td>-1.514304</td>\n",
       "      <td>0.084016</td>\n",
       "      <td>0</td>\n",
       "    </tr>\n",
       "    <tr>\n",
       "      <th>645</th>\n",
       "      <td>-0.467839</td>\n",
       "      <td>-0.780623</td>\n",
       "      <td>-0.745998</td>\n",
       "      <td>-0.514456</td>\n",
       "      <td>0</td>\n",
       "    </tr>\n",
       "    <tr>\n",
       "      <th>646</th>\n",
       "      <td>-0.960524</td>\n",
       "      <td>-1.223247</td>\n",
       "      <td>-0.792701</td>\n",
       "      <td>-0.287268</td>\n",
       "      <td>0</td>\n",
       "    </tr>\n",
       "    <tr>\n",
       "      <th>647</th>\n",
       "      <td>-1.306388</td>\n",
       "      <td>-0.760107</td>\n",
       "      <td>-1.172030</td>\n",
       "      <td>0.825571</td>\n",
       "      <td>0</td>\n",
       "    </tr>\n",
       "    <tr>\n",
       "      <th>648</th>\n",
       "      <td>-1.294395</td>\n",
       "      <td>-0.943565</td>\n",
       "      <td>-1.216915</td>\n",
       "      <td>0.752004</td>\n",
       "      <td>0</td>\n",
       "    </tr>\n",
       "    <tr>\n",
       "      <th>649</th>\n",
       "      <td>-1.048712</td>\n",
       "      <td>-7.349480</td>\n",
       "      <td>10.265359</td>\n",
       "      <td>0.076648</td>\n",
       "      <td>2</td>\n",
       "    </tr>\n",
       "    <tr>\n",
       "      <th>650</th>\n",
       "      <td>-0.953446</td>\n",
       "      <td>-0.385413</td>\n",
       "      <td>-1.503997</td>\n",
       "      <td>-0.080191</td>\n",
       "      <td>0</td>\n",
       "    </tr>\n",
       "    <tr>\n",
       "      <th>651</th>\n",
       "      <td>-0.822339</td>\n",
       "      <td>-0.767279</td>\n",
       "      <td>-0.743355</td>\n",
       "      <td>-0.910676</td>\n",
       "      <td>0</td>\n",
       "    </tr>\n",
       "    <tr>\n",
       "      <th>652</th>\n",
       "      <td>-0.965488</td>\n",
       "      <td>-6.361999</td>\n",
       "      <td>7.945118</td>\n",
       "      <td>-0.917383</td>\n",
       "      <td>2</td>\n",
       "    </tr>\n",
       "    <tr>\n",
       "      <th>653</th>\n",
       "      <td>-0.925058</td>\n",
       "      <td>-1.028800</td>\n",
       "      <td>-1.089349</td>\n",
       "      <td>0.241631</td>\n",
       "      <td>0</td>\n",
       "    </tr>\n",
       "    <tr>\n",
       "      <th>654</th>\n",
       "      <td>-0.933789</td>\n",
       "      <td>-0.818915</td>\n",
       "      <td>-0.039122</td>\n",
       "      <td>0.362493</td>\n",
       "      <td>0</td>\n",
       "    </tr>\n",
       "    <tr>\n",
       "      <th>655</th>\n",
       "      <td>-1.069058</td>\n",
       "      <td>-0.581340</td>\n",
       "      <td>-1.276172</td>\n",
       "      <td>-0.735956</td>\n",
       "      <td>0</td>\n",
       "    </tr>\n",
       "    <tr>\n",
       "      <th>656</th>\n",
       "      <td>-1.254160</td>\n",
       "      <td>4.200940</td>\n",
       "      <td>1.369935</td>\n",
       "      <td>-0.716889</td>\n",
       "      <td>0</td>\n",
       "    </tr>\n",
       "    <tr>\n",
       "      <th>657</th>\n",
       "      <td>-1.589947</td>\n",
       "      <td>-0.978699</td>\n",
       "      <td>-1.415410</td>\n",
       "      <td>1.116606</td>\n",
       "      <td>0</td>\n",
       "    </tr>\n",
       "    <tr>\n",
       "      <th>658</th>\n",
       "      <td>-0.492690</td>\n",
       "      <td>-1.349530</td>\n",
       "      <td>-0.500680</td>\n",
       "      <td>0.560678</td>\n",
       "      <td>0</td>\n",
       "    </tr>\n",
       "    <tr>\n",
       "      <th>659</th>\n",
       "      <td>-0.517725</td>\n",
       "      <td>-1.320316</td>\n",
       "      <td>-0.577475</td>\n",
       "      <td>-0.311385</td>\n",
       "      <td>0</td>\n",
       "    </tr>\n",
       "    <tr>\n",
       "      <th>660</th>\n",
       "      <td>-0.553849</td>\n",
       "      <td>-1.008861</td>\n",
       "      <td>-1.139085</td>\n",
       "      <td>-0.260627</td>\n",
       "      <td>0</td>\n",
       "    </tr>\n",
       "    <tr>\n",
       "      <th>661</th>\n",
       "      <td>-0.549443</td>\n",
       "      <td>-1.304414</td>\n",
       "      <td>-0.635432</td>\n",
       "      <td>-0.824056</td>\n",
       "      <td>0</td>\n",
       "    </tr>\n",
       "    <tr>\n",
       "      <th>662</th>\n",
       "      <td>0.604634</td>\n",
       "      <td>-1.119303</td>\n",
       "      <td>-0.947983</td>\n",
       "      <td>0.148304</td>\n",
       "      <td>0</td>\n",
       "    </tr>\n",
       "    <tr>\n",
       "      <th>663</th>\n",
       "      <td>-0.027608</td>\n",
       "      <td>11.439219</td>\n",
       "      <td>6.082980</td>\n",
       "      <td>-1.034643</td>\n",
       "      <td>3</td>\n",
       "    </tr>\n",
       "    <tr>\n",
       "      <th>664</th>\n",
       "      <td>-0.845976</td>\n",
       "      <td>-0.725110</td>\n",
       "      <td>-1.533597</td>\n",
       "      <td>0.752230</td>\n",
       "      <td>0</td>\n",
       "    </tr>\n",
       "    <tr>\n",
       "      <th>665</th>\n",
       "      <td>-1.354917</td>\n",
       "      <td>0.132861</td>\n",
       "      <td>-1.691607</td>\n",
       "      <td>0.092130</td>\n",
       "      <td>0</td>\n",
       "    </tr>\n",
       "  </tbody>\n",
       "</table>\n",
       "<p>666 rows × 5 columns</p>\n",
       "</div>"
      ],
      "text/plain": [
       "            0          1          2         3  Pred\n",
       "0   -0.514648   0.016765  -2.137610  0.655045     0\n",
       "1   -1.345104  -5.587139   6.642363  0.907657     2\n",
       "2   -0.841824  -0.311069  -2.233389  0.964382     0\n",
       "3   -1.200023   0.973191  -0.860425  0.657571     0\n",
       "4   -0.470799   0.658072  -1.776311  0.602252     0\n",
       "5   -0.869553  -0.173584  -1.789780  0.062902     0\n",
       "6   -0.771912  11.914995   6.012483  0.332304     3\n",
       "7   -0.119862  -0.514822  -1.931164  0.842114     0\n",
       "8   -0.835545  -0.501448  -1.907040  0.409067     0\n",
       "9   -1.247030  -0.623973  -1.719121  0.749931     0\n",
       "10  -0.795674  -0.602554  -1.700035  0.374537     0\n",
       "11  -0.837418  -0.606623  -1.729737  0.400953     0\n",
       "12  -0.399025  -0.408137  -2.018163  0.940265     0\n",
       "13  -1.285849  -0.204248  -1.760327  0.771271     0\n",
       "14  -0.786712  -0.280375  -2.241362  0.219184     0\n",
       "15  -0.846081  10.951465   4.050851  0.320069     3\n",
       "16  -1.205286  -0.619905  -1.689419  0.723516     0\n",
       "17  -0.393162  -0.181379  -1.693899  0.559571     0\n",
       "18  -1.208223  -0.422870  -2.025188  1.099135     0\n",
       "19  -0.440515  -1.121800  -0.844421  0.191100     0\n",
       "20  -0.525068  -0.827726  -1.416895  0.627664     0\n",
       "21  -0.829266  -0.691827  -1.580690 -0.146248     0\n",
       "22  -0.426743  -0.891482  -1.227282 -0.331759     0\n",
       "23  -0.687650  -0.518723  -1.379323  0.540440     0\n",
       "24  -1.050291  -1.041004  -1.178454  0.320877     0\n",
       "25  -1.132080  -0.615594  -0.561074  0.151406     0\n",
       "26  -0.515215  -0.479385  -0.591064 -0.141839     0\n",
       "27  -0.969335  -0.632140  -1.800006  0.839590     0\n",
       "28  -1.313161  -0.483900  -1.314632 -0.304829     0\n",
       "29  -0.459525  -0.573370  -1.798310 -0.460697     0\n",
       "..        ...        ...        ...       ...   ...\n",
       "636 -1.528567  -0.517554  -1.444305  0.186638     0\n",
       "637 -0.572189  -1.236083  -0.058517  0.224700     0\n",
       "638 -0.864731  -0.886275  -1.284042 -0.675148     0\n",
       "639 -0.471829  -0.902206  -1.247565 -0.125648     0\n",
       "640 -1.238961   9.725738   4.708918 -0.970520     3\n",
       "641 -0.905149   8.936699   4.599073  0.342442     3\n",
       "642  0.369767   8.457660   3.390320 -0.658885     3\n",
       "643 -0.913159  -0.903656  -1.294907 -0.289341     0\n",
       "644 -1.356790   0.027687  -1.514304  0.084016     0\n",
       "645 -0.467839  -0.780623  -0.745998 -0.514456     0\n",
       "646 -0.960524  -1.223247  -0.792701 -0.287268     0\n",
       "647 -1.306388  -0.760107  -1.172030  0.825571     0\n",
       "648 -1.294395  -0.943565  -1.216915  0.752004     0\n",
       "649 -1.048712  -7.349480  10.265359  0.076648     2\n",
       "650 -0.953446  -0.385413  -1.503997 -0.080191     0\n",
       "651 -0.822339  -0.767279  -0.743355 -0.910676     0\n",
       "652 -0.965488  -6.361999   7.945118 -0.917383     2\n",
       "653 -0.925058  -1.028800  -1.089349  0.241631     0\n",
       "654 -0.933789  -0.818915  -0.039122  0.362493     0\n",
       "655 -1.069058  -0.581340  -1.276172 -0.735956     0\n",
       "656 -1.254160   4.200940   1.369935 -0.716889     0\n",
       "657 -1.589947  -0.978699  -1.415410  1.116606     0\n",
       "658 -0.492690  -1.349530  -0.500680  0.560678     0\n",
       "659 -0.517725  -1.320316  -0.577475 -0.311385     0\n",
       "660 -0.553849  -1.008861  -1.139085 -0.260627     0\n",
       "661 -0.549443  -1.304414  -0.635432 -0.824056     0\n",
       "662  0.604634  -1.119303  -0.947983  0.148304     0\n",
       "663 -0.027608  11.439219   6.082980 -1.034643     3\n",
       "664 -0.845976  -0.725110  -1.533597  0.752230     0\n",
       "665 -1.354917   0.132861  -1.691607  0.092130     0\n",
       "\n",
       "[666 rows x 5 columns]"
      ]
     },
     "execution_count": 383,
     "metadata": {},
     "output_type": "execute_result"
    }
   ],
   "source": [
    "transformed1"
   ]
  }
 ],
 "metadata": {
  "kernelspec": {
   "display_name": "Python 3",
   "language": "python",
   "name": "python3"
  },
  "language_info": {
   "codemirror_mode": {
    "name": "ipython",
    "version": 3
   },
   "file_extension": ".py",
   "mimetype": "text/x-python",
   "name": "python",
   "nbconvert_exporter": "python",
   "pygments_lexer": "ipython3",
   "version": "3.6.2"
  }
 },
 "nbformat": 4,
 "nbformat_minor": 2
}
